{
 "cells": [
  {
   "cell_type": "code",
   "execution_count": 23,
   "metadata": {},
   "outputs": [],
   "source": [
    "import torch\n",
    "import torch.nn as nn\n",
    "from torch.utils.data import Dataset, DataLoader\n",
    "import torchvision\n",
    "from datasets import load_dataset\n",
    "import matplotlib.pyplot as plt"
   ]
  },
  {
   "cell_type": "code",
   "execution_count": 22,
   "metadata": {},
   "outputs": [],
   "source": [
    "# dogs: 22 - 26\n",
    "# cats: 27 - 29\n",
    "dataset = load_dataset(\"zh-plus/tiny-imagenet\")"
   ]
  },
  {
   "cell_type": "code",
   "execution_count": 58,
   "metadata": {},
   "outputs": [],
   "source": [
    "# prepare dataset\n",
    "class CatsDataset(Dataset):\n",
    "    def __init__(self, train=True):\n",
    "        if train:\n",
    "            temp_dataset = load_dataset(\"zh-plus/tiny-imagenet\")['train']\n",
    "        else:\n",
    "            temp_dataset = load_dataset(\"zh-plus/tiny-imagenet\")['valid']\n",
    "        \n",
    "        self.dataset = []\n",
    "        for i in range(len(temp_dataset)):\n",
    "            if temp_dataset[i]['label'] in [27, 28, 29]:\n",
    "                img = torchvision.transforms.PILToTensor()(temp_dataset[i]['image']).expand((3, -1, -1)) / 255.0\n",
    "                self.dataset.append([img, torch.tensor([0])])\n",
    "\n",
    "            elif torch.randint(0, 1900, (1, )) < 10:\n",
    "                img = torchvision.transforms.PILToTensor()(temp_dataset[i]['image']).expand((3, -1, -1)) / 255.0\n",
    "                self.dataset.append([img, torch.tensor([1])])\n",
    "    \n",
    "    def __len__(self):\n",
    "        return len(self.dataset)\n",
    "    \n",
    "    def __getitem__(self, idx):\n",
    "        image, label = self.dataset[idx]\n",
    "        image = torchvision.transforms.RandomHorizontalFlip()(image)\n",
    "        return (image, label)"
   ]
  },
  {
   "cell_type": "code",
   "execution_count": 39,
   "metadata": {},
   "outputs": [],
   "source": [
    "train_dataset = CatsDataset()"
   ]
  },
  {
   "cell_type": "code",
   "execution_count": 40,
   "metadata": {},
   "outputs": [],
   "source": [
    "train_dataloader = DataLoader(\n",
    "    dataset=train_dataset,\n",
    "    batch_size=64,\n",
    "    shuffle=True\n",
    ")"
   ]
  },
  {
   "cell_type": "code",
   "execution_count": 50,
   "metadata": {},
   "outputs": [
    {
     "name": "stdout",
     "output_type": "stream",
     "text": [
      "Using device: mps\n"
     ]
    }
   ],
   "source": [
    "dev = torch.device(\"cpu\")\n",
    "if torch.cuda.is_available():\n",
    "    dev = torch.device(\"cuda\")\n",
    "elif torch.backends.mps.is_available():\n",
    "    dev = torch.device(\"mps\")\n",
    "\n",
    "print(f\"Using device: {dev}\")"
   ]
  },
  {
   "cell_type": "code",
   "execution_count": 51,
   "metadata": {},
   "outputs": [],
   "source": [
    "model = nn.Sequential(\n",
    "    nn.Conv2d(3, 16, 5),\n",
    "    nn.MaxPool2d((5, 5)),\n",
    "    nn.LeakyReLU(),\n",
    "    nn.Conv2d(16, 64, 5),\n",
    "    nn.MaxPool2d((5, 5)),\n",
    "    nn.LeakyReLU(),\n",
    "    nn.Flatten(),\n",
    "    nn.Linear(64, 2)\n",
    ").to(dev)\n",
    "\n",
    "criterion = nn.CrossEntropyLoss()\n",
    "optimizer = torch.optim.Adam(model.parameters(), lr=0.001)"
   ]
  },
  {
   "cell_type": "code",
   "execution_count": 52,
   "metadata": {},
   "outputs": [
    {
     "name": "stdout",
     "output_type": "stream",
     "text": [
      "Epoch 1 Loss: 0.6031195027753711\n",
      "Epoch 2 Loss: 0.5693937763571739\n",
      "Epoch 3 Loss: 0.5645777573809028\n",
      "Epoch 4 Loss: 0.5563384471461177\n",
      "Epoch 5 Loss: 0.5256901932880282\n",
      "Epoch 6 Loss: 0.519495652988553\n",
      "Epoch 7 Loss: 0.5277099274098873\n",
      "Epoch 8 Loss: 0.4949968680739403\n",
      "Epoch 9 Loss: 0.4846584042534232\n",
      "Epoch 10 Loss: 0.4662678251042962\n",
      "Epoch 11 Loss: 0.46639192570000887\n",
      "Epoch 12 Loss: 0.4956228667870164\n",
      "Epoch 13 Loss: 0.45122461300343275\n",
      "Epoch 14 Loss: 0.43881895393133163\n",
      "Epoch 15 Loss: 0.4320981102064252\n",
      "Epoch 16 Loss: 0.43389446567744017\n",
      "Epoch 17 Loss: 0.4174723094329238\n",
      "Epoch 18 Loss: 0.4161420054733753\n",
      "Epoch 19 Loss: 0.4145952542312443\n",
      "Epoch 20 Loss: 0.4002936128526926\n",
      "Epoch 21 Loss: 0.3905644016340375\n",
      "Epoch 22 Loss: 0.40552608389407396\n",
      "Epoch 23 Loss: 0.38886744529008865\n",
      "Epoch 24 Loss: 0.38923065550625324\n",
      "Epoch 25 Loss: 0.3654237175360322\n",
      "Epoch 26 Loss: 0.38696625735610723\n",
      "Epoch 27 Loss: 0.3586164745502174\n",
      "Epoch 28 Loss: 0.34843491297215223\n",
      "Epoch 29 Loss: 0.3499384238384664\n",
      "Epoch 30 Loss: 0.36712017515674233\n",
      "Epoch 31 Loss: 0.3333812761120498\n",
      "Epoch 32 Loss: 0.33515237737447023\n",
      "Epoch 33 Loss: 0.3129553934559226\n",
      "Epoch 34 Loss: 0.3061508573591709\n",
      "Epoch 35 Loss: 0.3035786529071629\n",
      "Epoch 36 Loss: 0.297993041574955\n",
      "Epoch 37 Loss: 0.29154166439548135\n",
      "Epoch 38 Loss: 0.2730861115269363\n",
      "Epoch 39 Loss: 0.2699443125165999\n",
      "Epoch 40 Loss: 0.2697612810879946\n"
     ]
    }
   ],
   "source": [
    "for epoch in range(40):\n",
    "    s = 0\n",
    "    for i, data in enumerate(train_dataloader):\n",
    "        # Every data instance is an input + label pair\n",
    "        inputs, labels = data\n",
    "        inputs = inputs.to(dev)\n",
    "        labels = labels.to(dev)\n",
    "        # Zero your gradients for every batch!\n",
    "        optimizer.zero_grad()\n",
    "\n",
    "        # Make predictions for this batch\n",
    "        outputs = model(inputs)\n",
    "        labels = labels.view(-1)\n",
    "        # Compute the loss and its gradients\n",
    "        loss = criterion(outputs, labels)\n",
    "        loss.backward()\n",
    "\n",
    "        # Adjust learning weights\n",
    "        optimizer.step()\n",
    "\n",
    "        s += loss.item()\n",
    "    \n",
    "    print(f\"Epoch {epoch+1} Loss: {s/len(train_dataloader)}\")\n",
    "\n",
    "torch.save(model.to(dev).state_dict(), \"model.pt\")"
   ]
  },
  {
   "cell_type": "code",
   "execution_count": 59,
   "metadata": {},
   "outputs": [],
   "source": [
    "test_dataset = CatsDataset(train=False)"
   ]
  },
  {
   "cell_type": "code",
   "execution_count": 60,
   "metadata": {},
   "outputs": [],
   "source": [
    "test_dataloader = DataLoader(\n",
    "    dataset=test_dataset,\n",
    "    batch_size=64,\n",
    "    shuffle=True\n",
    ")"
   ]
  },
  {
   "cell_type": "code",
   "execution_count": 61,
   "metadata": {},
   "outputs": [
    {
     "name": "stdout",
     "output_type": "stream",
     "text": [
      "tensor(0.8029, device='mps:0')\n"
     ]
    }
   ],
   "source": [
    "good = 0\n",
    "a = 0\n",
    "for i, data in enumerate(test_dataloader):\n",
    "    # Every data instance is an input + label pair\n",
    "    inputs, labels = data\n",
    "    inputs = inputs.to(dev)\n",
    "    labels = labels.to(dev)\n",
    "    outputs = model(inputs)\n",
    "    labels = labels.view(-1)\n",
    "    \n",
    "    for i in range(len(outputs)):\n",
    "        good += torch.argmax(outputs[i]) == labels[i]\n",
    "        a += 1\n",
    "\n",
    "print(good / a)"
   ]
  }
 ],
 "metadata": {
  "kernelspec": {
   "display_name": "Python 3",
   "language": "python",
   "name": "python3"
  },
  "language_info": {
   "codemirror_mode": {
    "name": "ipython",
    "version": 3
   },
   "file_extension": ".py",
   "mimetype": "text/x-python",
   "name": "python",
   "nbconvert_exporter": "python",
   "pygments_lexer": "ipython3",
   "version": "3.11.4"
  }
 },
 "nbformat": 4,
 "nbformat_minor": 2
}
