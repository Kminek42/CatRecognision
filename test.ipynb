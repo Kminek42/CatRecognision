{
 "cells": [
  {
   "cell_type": "code",
   "execution_count": 240,
   "metadata": {},
   "outputs": [],
   "source": [
    "import torch\n",
    "import torch.nn as nn\n",
    "from torch.utils.data import Dataset, DataLoader\n",
    "import torchvision\n",
    "from datasets import load_dataset\n",
    "import matplotlib.pyplot as plt"
   ]
  },
  {
   "cell_type": "code",
   "execution_count": 241,
   "metadata": {},
   "outputs": [],
   "source": [
    "# Load the dataset\n",
    "dataset = load_dataset(\"cifar10\")"
   ]
  },
  {
   "cell_type": "code",
   "execution_count": 303,
   "metadata": {},
   "outputs": [],
   "source": [
    "# prepare dataset\n",
    "class CatsDataset(Dataset):\n",
    "    def __init__(self, train=True):\n",
    "        if train:\n",
    "            temp_dataset = load_dataset(\"cifar10\")['train']\n",
    "        else:\n",
    "            temp_dataset = load_dataset(\"cifar10\")['test']\n",
    "        \n",
    "        self.dataset = []\n",
    "        for i in range(len(temp_dataset)):\n",
    "            if temp_dataset[i]['label'] == 3:\n",
    "                img = torchvision.transforms.PILToTensor()(temp_dataset[i]['img']) / 255.0\n",
    "                self.dataset.append([img, torch.tensor([0])])\n",
    "\n",
    "            elif torch.randint(0, 90, (1, )) < 10:\n",
    "                img = torchvision.transforms.PILToTensor()(temp_dataset[i]['img']) / 255.0\n",
    "                self.dataset.append([img, torch.tensor([1])])\n",
    "    \n",
    "    def __len__(self):\n",
    "        return len(self.dataset)\n",
    "    \n",
    "    def __getitem__(self, idx):\n",
    "        image, label = self.dataset[idx]\n",
    "        return (image, label)"
   ]
  },
  {
   "cell_type": "code",
   "execution_count": 304,
   "metadata": {},
   "outputs": [],
   "source": [
    "train_dataset = CatsDataset()"
   ]
  },
  {
   "cell_type": "code",
   "execution_count": 305,
   "metadata": {},
   "outputs": [],
   "source": [
    "dataloader = DataLoader(\n",
    "    dataset=train_dataset,\n",
    "    batch_size=64,\n",
    "    shuffle=True\n",
    ")"
   ]
  },
  {
   "cell_type": "code",
   "execution_count": 306,
   "metadata": {},
   "outputs": [],
   "source": [
    "model = nn.Sequential(\n",
    "    nn.Conv2d(3, 16, 5),\n",
    "    nn.MaxPool2d((5, 5)),\n",
    "    nn.LeakyReLU(),\n",
    "    nn.Flatten(),\n",
    "    nn.Linear(400, 64),\n",
    "    nn.LeakyReLU(),\n",
    "    nn.Linear(64, 2)\n",
    ")"
   ]
  },
  {
   "cell_type": "code",
   "execution_count": 307,
   "metadata": {},
   "outputs": [],
   "source": [
    "criterion = nn.CrossEntropyLoss()\n",
    "optimizer = torch.optim.Adam(model.parameters(), lr=0.001)"
   ]
  },
  {
   "cell_type": "code",
   "execution_count": 308,
   "metadata": {},
   "outputs": [
    {
     "name": "stdout",
     "output_type": "stream",
     "text": [
      "Epoch 1 Loss: 0.6152230309452981\n",
      "Epoch 2 Loss: 0.5393341550022174\n",
      "Epoch 3 Loss: 0.5180603446094854\n",
      "Epoch 4 Loss: 0.5040903991195047\n",
      "Epoch 5 Loss: 0.4942670022226443\n",
      "Epoch 6 Loss: 0.48011620276293177\n",
      "Epoch 7 Loss: 0.46641658350920223\n",
      "Epoch 8 Loss: 0.4589494303533226\n",
      "Epoch 9 Loss: 0.4604894281572597\n",
      "Epoch 10 Loss: 0.4480480821269333\n",
      "Epoch 11 Loss: 0.43683091622249337\n",
      "Epoch 12 Loss: 0.430411545524172\n",
      "Epoch 13 Loss: 0.42318472645844624\n",
      "Epoch 14 Loss: 0.4164942047398561\n",
      "Epoch 15 Loss: 0.40561415871996787\n",
      "Epoch 16 Loss: 0.39270503183079375\n",
      "Epoch 17 Loss: 0.3869354738171693\n",
      "Epoch 18 Loss: 0.3814699295789573\n",
      "Epoch 19 Loss: 0.3723717454322584\n",
      "Epoch 20 Loss: 0.36314954309706476\n",
      "Epoch 21 Loss: 0.3544482316370982\n",
      "Epoch 22 Loss: 0.3511567739354577\n",
      "Epoch 23 Loss: 0.34058864775356973\n",
      "Epoch 24 Loss: 0.3296292709886648\n",
      "Epoch 25 Loss: 0.3203633677238112\n",
      "Epoch 26 Loss: 0.3105700579798146\n",
      "Epoch 27 Loss: 0.30285927852627575\n",
      "Epoch 28 Loss: 0.2879538503801747\n",
      "Epoch 29 Loss: 0.2892795727131473\n",
      "Epoch 30 Loss: 0.2716113572857182\n",
      "Epoch 31 Loss: 0.26435965071817874\n",
      "Epoch 32 Loss: 0.25293612461181203\n",
      "Epoch 33 Loss: 0.24714298346999344\n",
      "Epoch 34 Loss: 0.23583162756292683\n",
      "Epoch 35 Loss: 0.2314000296270012\n",
      "Epoch 36 Loss: 0.21596720316417659\n",
      "Epoch 37 Loss: 0.21457219593654012\n",
      "Epoch 38 Loss: 0.19933084631042117\n",
      "Epoch 39 Loss: 0.19022467381255642\n",
      "Epoch 40 Loss: 0.1869820856554493\n"
     ]
    }
   ],
   "source": [
    "for epoch in range(40):\n",
    "    s = 0\n",
    "    for i, data in enumerate(dataloader):\n",
    "        # Every data instance is an input + label pair\n",
    "        inputs, labels = data\n",
    "\n",
    "        # Zero your gradients for every batch!\n",
    "        optimizer.zero_grad()\n",
    "\n",
    "        # Make predictions for this batch\n",
    "        outputs = model(inputs)\n",
    "        labels = labels.view(-1)\n",
    "        # Compute the loss and its gradients\n",
    "        loss = criterion(outputs, labels)\n",
    "        loss.backward()\n",
    "\n",
    "        # Adjust learning weights\n",
    "        optimizer.step()\n",
    "\n",
    "        s += loss.item()\n",
    "    \n",
    "    print(f\"Epoch {epoch+1} Loss: {s/len(dataloader)}\")\n",
    "\n",
    "torch.save(model.state_dict(), \"model.pt\")"
   ]
  },
  {
   "cell_type": "code",
   "execution_count": 309,
   "metadata": {},
   "outputs": [],
   "source": [
    "test_dataset = CatsDataset(train=False)"
   ]
  },
  {
   "cell_type": "code",
   "execution_count": 310,
   "metadata": {},
   "outputs": [],
   "source": [
    "dataloader = DataLoader(\n",
    "    dataset=train_dataset,\n",
    "    batch_size=64,\n",
    "    shuffle=True\n",
    ")"
   ]
  },
  {
   "cell_type": "code",
   "execution_count": 311,
   "metadata": {},
   "outputs": [
    {
     "name": "stdout",
     "output_type": "stream",
     "text": [
      "tensor(0.9447)\n"
     ]
    }
   ],
   "source": [
    "good = 0\n",
    "a = 0\n",
    "for i, data in enumerate(dataloader):\n",
    "    # Every data instance is an input + label pair\n",
    "    inputs, labels = data\n",
    "    outputs = model(inputs)\n",
    "    labels = labels.view(-1)\n",
    "    \n",
    "    for i in range(len(outputs)):\n",
    "        good += torch.argmax(outputs[i]) == labels[i]\n",
    "        a += 1\n",
    "\n",
    "print(good / a)"
   ]
  }
 ],
 "metadata": {
  "kernelspec": {
   "display_name": "Python 3",
   "language": "python",
   "name": "python3"
  },
  "language_info": {
   "codemirror_mode": {
    "name": "ipython",
    "version": 3
   },
   "file_extension": ".py",
   "mimetype": "text/x-python",
   "name": "python",
   "nbconvert_exporter": "python",
   "pygments_lexer": "ipython3",
   "version": "3.11.4"
  }
 },
 "nbformat": 4,
 "nbformat_minor": 2
}
