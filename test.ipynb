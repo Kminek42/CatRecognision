{
 "cells": [
  {
   "cell_type": "code",
   "execution_count": 125,
   "metadata": {},
   "outputs": [],
   "source": [
    "import torch\n",
    "import torch.nn as nn\n",
    "from torch.utils.data import Dataset, DataLoader\n",
    "import torchvision\n",
    "from datasets import load_dataset\n",
    "import matplotlib.pyplot as plt"
   ]
  },
  {
   "cell_type": "code",
   "execution_count": 126,
   "metadata": {},
   "outputs": [],
   "source": [
    "# prepare dataset\n",
    "class CatsDataset(Dataset):\n",
    "    def __init__(self, train=True):\n",
    "        if train:\n",
    "            temp_dataset = load_dataset(\"zh-plus/tiny-imagenet\")['train']\n",
    "        else:\n",
    "            temp_dataset = load_dataset(\"zh-plus/tiny-imagenet\")['valid']\n",
    "        \n",
    "        self.dataset = []\n",
    "        for i in range(len(temp_dataset)):\n",
    "            if temp_dataset[i]['label'] in [27, 28, 29]:\n",
    "                img = torchvision.transforms.PILToTensor()(temp_dataset[i]['image']).expand((3, -1, -1)) / 255.0\n",
    "                self.dataset.append([img, torch.tensor([0])])\n",
    "\n",
    "            elif torch.randint(0, 200, (1, )) < 3:\n",
    "                img = torchvision.transforms.PILToTensor()(temp_dataset[i]['image']).expand((3, -1, -1)) / 255.0\n",
    "                self.dataset.append([img, torch.tensor([1])])\n",
    "    \n",
    "    def __len__(self):\n",
    "        return len(self.dataset)\n",
    "    \n",
    "    def __getitem__(self, idx):\n",
    "        image, label = self.dataset[idx]\n",
    "        image = torchvision.transforms.RandomHorizontalFlip()(image)\n",
    "        image = torchvision.transforms.RandomResizedCrop((64, 64), scale=(4/5, 5/4), ratio=(4/5, 5/4))(image)\n",
    "        return (image, label)"
   ]
  },
  {
   "cell_type": "code",
   "execution_count": 127,
   "metadata": {},
   "outputs": [
    {
     "data": {
      "text/plain": [
       "2942"
      ]
     },
     "execution_count": 127,
     "metadata": {},
     "output_type": "execute_result"
    }
   ],
   "source": [
    "train_dataset = CatsDataset()\n",
    "len(train_dataset)"
   ]
  },
  {
   "cell_type": "code",
   "execution_count": 128,
   "metadata": {},
   "outputs": [],
   "source": [
    "train_dataloader = DataLoader(\n",
    "    dataset=train_dataset,\n",
    "    batch_size=256,\n",
    "    shuffle=True\n",
    ")"
   ]
  },
  {
   "cell_type": "code",
   "execution_count": 129,
   "metadata": {},
   "outputs": [
    {
     "name": "stdout",
     "output_type": "stream",
     "text": [
      "Using device: mps\n"
     ]
    }
   ],
   "source": [
    "dev = torch.device(\"cpu\")\n",
    "if torch.cuda.is_available():\n",
    "    dev = torch.device(\"cuda\")\n",
    "elif torch.backends.mps.is_available():\n",
    "    dev = torch.device(\"mps\")\n",
    "\n",
    "print(f\"Using device: {dev}\")"
   ]
  },
  {
   "cell_type": "code",
   "execution_count": 130,
   "metadata": {},
   "outputs": [],
   "source": [
    "model = nn.Sequential(\n",
    "    nn.Conv2d(3, 16, 3),\n",
    "    nn.MaxPool2d((3, 3)),\n",
    "    nn.LeakyReLU(),\n",
    "    nn.Conv2d(16, 32, 3),\n",
    "    nn.MaxPool2d((3, 3)),\n",
    "    nn.LeakyReLU(),\n",
    "    nn.Conv2d(32, 64, 3),\n",
    "    nn.MaxPool2d((3, 3)),\n",
    "    nn.LeakyReLU(),\n",
    "    nn.Flatten(),\n",
    "    nn.Linear(64, 2)\n",
    ").to(dev)\n",
    "\n",
    "criterion = nn.CrossEntropyLoss()\n",
    "optimizer = torch.optim.Adam(model.parameters(), lr=0.001)"
   ]
  },
  {
   "cell_type": "code",
   "execution_count": 131,
   "metadata": {},
   "outputs": [
    {
     "name": "stderr",
     "output_type": "stream",
     "text": [
      "/Library/Frameworks/Python.framework/Versions/3.11/lib/python3.11/site-packages/torchvision/transforms/functional.py:1603: UserWarning: The default value of the antialias parameter of all the resizing transforms (Resize(), RandomResizedCrop(), etc.) will change from None to True in v0.17, in order to be consistent across the PIL and Tensor backends. To suppress this warning, directly pass antialias=True (recommended, future default), antialias=None (current default, which means False for Tensors and True for PIL), or antialias=False (only works on Tensors - PIL will still use antialiasing). This also applies if you are using the inference transforms from the models weights: update the call to weights.transforms(antialias=True).\n",
      "  warnings.warn(\n"
     ]
    },
    {
     "name": "stdout",
     "output_type": "stream",
     "text": [
      "Epoch 1 Loss: 0.6906811644633611\n",
      "Epoch 2 Loss: 0.6727351347605387\n",
      "Epoch 3 Loss: 0.6353405018647512\n",
      "Epoch 4 Loss: 0.596834272146225\n",
      "Epoch 5 Loss: 0.5716267128785452\n",
      "Epoch 6 Loss: 0.5597953250010809\n",
      "Epoch 7 Loss: 0.5613003025452296\n",
      "Epoch 8 Loss: 0.5604762683312098\n",
      "Epoch 9 Loss: 0.5618953530987104\n",
      "Epoch 10 Loss: 0.5479808151721954\n",
      "Epoch 11 Loss: 0.5520919859409332\n",
      "Epoch 12 Loss: 0.5400112718343735\n",
      "Epoch 13 Loss: 0.5486462861299515\n",
      "Epoch 14 Loss: 0.5329140002528826\n",
      "Epoch 15 Loss: 0.5428773512442907\n",
      "Epoch 16 Loss: 0.5365043183167776\n",
      "Epoch 17 Loss: 0.5237851167718569\n",
      "Epoch 18 Loss: 0.5268584787845612\n",
      "Epoch 19 Loss: 0.5223747367660204\n",
      "Epoch 20 Loss: 0.5147808541854223\n",
      "Epoch 21 Loss: 0.5220219567418098\n",
      "Epoch 22 Loss: 0.5204466407497724\n",
      "Epoch 23 Loss: 0.5177418912450472\n",
      "Epoch 24 Loss: 0.5181470091144244\n",
      "Epoch 25 Loss: 0.5142489224672318\n",
      "Epoch 26 Loss: 0.5052246699730555\n",
      "Epoch 27 Loss: 0.4934556633234024\n",
      "Epoch 28 Loss: 0.493755670885245\n",
      "Epoch 29 Loss: 0.49155181894699734\n",
      "Epoch 30 Loss: 0.4935596014062564\n",
      "Epoch 31 Loss: 0.4818422645330429\n",
      "Epoch 32 Loss: 0.48158544301986694\n",
      "Epoch 33 Loss: 0.4860708986719449\n",
      "Epoch 34 Loss: 0.4738188659151395\n",
      "Epoch 35 Loss: 0.47550472368796665\n",
      "Epoch 36 Loss: 0.47769003361463547\n",
      "Epoch 37 Loss: 0.4812716643015544\n",
      "Epoch 38 Loss: 0.4631857251127561\n",
      "Epoch 39 Loss: 0.4661891683936119\n",
      "Epoch 40 Loss: 0.460866038997968\n",
      "Epoch 41 Loss: 0.45910616715749103\n",
      "Epoch 42 Loss: 0.46653034786383313\n",
      "Epoch 43 Loss: 0.44484413663546246\n",
      "Epoch 44 Loss: 0.4459298973282178\n",
      "Epoch 45 Loss: 0.46454304705063504\n",
      "Epoch 46 Loss: 0.46509627252817154\n",
      "Epoch 47 Loss: 0.4682328899701436\n",
      "Epoch 48 Loss: 0.4653335089484851\n",
      "Epoch 49 Loss: 0.4450688163439433\n",
      "Epoch 50 Loss: 0.4322696675856908\n",
      "Epoch 51 Loss: 0.433534932633241\n",
      "Epoch 52 Loss: 0.43467083076636\n",
      "Epoch 53 Loss: 0.4302352964878082\n",
      "Epoch 54 Loss: 0.4356946175297101\n",
      "Epoch 55 Loss: 0.46321873366832733\n",
      "Epoch 56 Loss: 0.4510476465026538\n",
      "Epoch 57 Loss: 0.43079740305741626\n",
      "Epoch 58 Loss: 0.4317409818371137\n",
      "Epoch 59 Loss: 0.43263407548268634\n",
      "Epoch 60 Loss: 0.4283250148097674\n",
      "Epoch 61 Loss: 0.419983871281147\n",
      "Epoch 62 Loss: 0.4148433730006218\n",
      "Epoch 63 Loss: 0.41917096575101215\n",
      "Epoch 64 Loss: 0.42036450405915576\n",
      "Epoch 65 Loss: 0.4426655595501264\n",
      "Epoch 66 Loss: 0.44023730357487995\n",
      "Epoch 67 Loss: 0.434431088467439\n",
      "Epoch 68 Loss: 0.4182812422513962\n",
      "Epoch 69 Loss: 0.4156985804438591\n",
      "Epoch 70 Loss: 0.4156942094365756\n",
      "Epoch 71 Loss: 0.40962428351243335\n",
      "Epoch 72 Loss: 0.4075527787208557\n",
      "Epoch 73 Loss: 0.39662427455186844\n",
      "Epoch 74 Loss: 0.394334743420283\n",
      "Epoch 75 Loss: 0.397442065179348\n",
      "Epoch 76 Loss: 0.42045770833889645\n",
      "Epoch 77 Loss: 0.4307652140657107\n",
      "Epoch 78 Loss: 0.4207899918158849\n",
      "Epoch 79 Loss: 0.3961403891444206\n",
      "Epoch 80 Loss: 0.396313672264417\n",
      "Epoch 81 Loss: 0.4032765328884125\n",
      "Epoch 82 Loss: 0.4031076580286026\n",
      "Epoch 83 Loss: 0.3873235806822777\n",
      "Epoch 84 Loss: 0.3775900776187579\n",
      "Epoch 85 Loss: 0.3862036814292272\n",
      "Epoch 86 Loss: 0.39503127088149387\n",
      "Epoch 87 Loss: 0.3938879097501437\n",
      "Epoch 88 Loss: 0.38526999453703564\n",
      "Epoch 89 Loss: 0.38264769067366916\n",
      "Epoch 90 Loss: 0.3688984041412671\n",
      "Epoch 91 Loss: 0.3823482965429624\n",
      "Epoch 92 Loss: 0.3772766689459483\n",
      "Epoch 93 Loss: 0.36653581261634827\n",
      "Epoch 94 Loss: 0.37338518102963764\n",
      "Epoch 95 Loss: 0.37859267244736355\n",
      "Epoch 96 Loss: 0.3866271028916041\n",
      "Epoch 97 Loss: 0.37250324835379917\n",
      "Epoch 98 Loss: 0.3666203444202741\n",
      "Epoch 99 Loss: 0.364544356862704\n",
      "Epoch 100 Loss: 0.3580838864048322\n"
     ]
    }
   ],
   "source": [
    "for epoch in range(100):\n",
    "    s = 0\n",
    "    for i, data in enumerate(train_dataloader):\n",
    "        # Every data instance is an input + label pair\n",
    "        inputs, labels = data\n",
    "        inputs = inputs.to(dev)\n",
    "        labels = labels.to(dev)\n",
    "        # Zero your gradients for every batch!\n",
    "        optimizer.zero_grad()\n",
    "\n",
    "        # Make predictions for this batch\n",
    "        outputs = model(inputs)\n",
    "        labels = labels.view(-1)\n",
    "        # Compute the loss and its gradients\n",
    "        loss = criterion(outputs, labels)\n",
    "        loss.backward()\n",
    "\n",
    "        # Adjust learning weights\n",
    "        optimizer.step()\n",
    "\n",
    "        s += loss.item()\n",
    "    \n",
    "    print(f\"Epoch {epoch+1} Loss: {s/len(train_dataloader)}\")\n",
    "\n",
    "torch.save(model.to(dev).state_dict(), \"model.pt\")"
   ]
  },
  {
   "cell_type": "code",
   "execution_count": 132,
   "metadata": {},
   "outputs": [],
   "source": [
    "test_dataset = CatsDataset(train=False)"
   ]
  },
  {
   "cell_type": "code",
   "execution_count": 133,
   "metadata": {},
   "outputs": [],
   "source": [
    "test_dataloader = DataLoader(\n",
    "    dataset=test_dataset,\n",
    "    batch_size=64,\n",
    "    shuffle=True\n",
    ")"
   ]
  },
  {
   "cell_type": "code",
   "execution_count": 134,
   "metadata": {},
   "outputs": [
    {
     "name": "stdout",
     "output_type": "stream",
     "text": [
      "tensor(0.7880, device='mps:0')\n"
     ]
    }
   ],
   "source": [
    "good = 0\n",
    "a = 0\n",
    "for i, data in enumerate(test_dataloader):\n",
    "    # Every data instance is an input + label pair\n",
    "    inputs, labels = data\n",
    "    inputs = inputs.to(dev)\n",
    "    labels = labels.to(dev)\n",
    "    outputs = model(inputs)\n",
    "    labels = labels.view(-1)\n",
    "    \n",
    "    for i in range(len(outputs)):\n",
    "        good += torch.argmax(outputs[i]) == labels[i]\n",
    "        a += 1\n",
    "\n",
    "print(good / a)"
   ]
  }
 ],
 "metadata": {
  "kernelspec": {
   "display_name": "Python 3",
   "language": "python",
   "name": "python3"
  },
  "language_info": {
   "codemirror_mode": {
    "name": "ipython",
    "version": 3
   },
   "file_extension": ".py",
   "mimetype": "text/x-python",
   "name": "python",
   "nbconvert_exporter": "python",
   "pygments_lexer": "ipython3",
   "version": "3.11.4"
  }
 },
 "nbformat": 4,
 "nbformat_minor": 2
}
