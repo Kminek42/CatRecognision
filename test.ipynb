{
 "cells": [
  {
   "cell_type": "code",
   "execution_count": 18,
   "metadata": {},
   "outputs": [],
   "source": [
    "import torch\n",
    "import torch.nn as nn\n",
    "from torch.utils.data import Dataset, DataLoader\n",
    "import torchvision\n",
    "from datasets import load_dataset\n",
    "import matplotlib.pyplot as plt"
   ]
  },
  {
   "cell_type": "code",
   "execution_count": 19,
   "metadata": {},
   "outputs": [],
   "source": [
    "# prepare dataset\n",
    "class CatsDataset(Dataset):\n",
    "    def __init__(self, train=True):\n",
    "        if train:\n",
    "            temp_dataset = load_dataset(\"cifar10\")['train']\n",
    "        else:\n",
    "            temp_dataset = load_dataset(\"cifar10\")['test']\n",
    "        \n",
    "        self.dataset = []\n",
    "        for i in range(len(temp_dataset)):\n",
    "            if temp_dataset[i]['label'] == 3:\n",
    "                img = torchvision.transforms.PILToTensor()(temp_dataset[i]['img']).expand((3, -1, -1)) / 255.0\n",
    "                self.dataset.append([img, torch.tensor([0])])\n",
    "\n",
    "            elif torch.rand((1, )) < 1/9:\n",
    "                img = torchvision.transforms.PILToTensor()(temp_dataset[i]['img']).expand((3, -1, -1)) / 255.0\n",
    "                self.dataset.append([img, torch.tensor([1])])\n",
    "    \n",
    "    def __len__(self):\n",
    "        return len(self.dataset)\n",
    "    \n",
    "    def __getitem__(self, idx):\n",
    "        image, label = self.dataset[idx]\n",
    "        image = torchvision.transforms.RandomHorizontalFlip()(image)\n",
    "        image = torchvision.transforms.RandomResizedCrop((32, 32), scale=(4/5, 5/4), ratio=(4/5, 5/4))(image)\n",
    "        return (image, label)"
   ]
  },
  {
   "cell_type": "code",
   "execution_count": 20,
   "metadata": {},
   "outputs": [
    {
     "data": {
      "text/plain": [
       "9947"
      ]
     },
     "execution_count": 20,
     "metadata": {},
     "output_type": "execute_result"
    }
   ],
   "source": [
    "train_dataset = CatsDataset(train=True)\n",
    "len(train_dataset)"
   ]
  },
  {
   "cell_type": "code",
   "execution_count": 21,
   "metadata": {},
   "outputs": [],
   "source": [
    "train_dataloader = DataLoader(\n",
    "    dataset=train_dataset,\n",
    "    batch_size=256,\n",
    "    shuffle=True\n",
    ")"
   ]
  },
  {
   "cell_type": "code",
   "execution_count": 22,
   "metadata": {},
   "outputs": [
    {
     "name": "stdout",
     "output_type": "stream",
     "text": [
      "Using device: mps\n"
     ]
    }
   ],
   "source": [
    "dev = torch.device(\"cpu\")\n",
    "if torch.cuda.is_available():\n",
    "    dev = torch.device(\"cuda\")\n",
    "elif torch.backends.mps.is_available():\n",
    "    dev = torch.device(\"mps\")\n",
    "\n",
    "print(f\"Using device: {dev}\")"
   ]
  },
  {
   "cell_type": "code",
   "execution_count": 23,
   "metadata": {},
   "outputs": [],
   "source": [
    "model = nn.Sequential(\n",
    "    nn.Conv2d(3, 64, 3),\n",
    "    nn.MaxPool2d((3, 3)),\n",
    "    nn.LeakyReLU(),\n",
    "    nn.Conv2d(64, 64, 3),\n",
    "    nn.MaxPool2d((3, 3)),\n",
    "    nn.LeakyReLU(),\n",
    "    nn.Flatten(),\n",
    "    nn.Linear(256, 64),\n",
    "    nn.LeakyReLU(),\n",
    "    nn.Linear(64, 2)\n",
    ").to(dev)\n",
    "\n",
    "criterion = nn.CrossEntropyLoss()\n",
    "optimizer = torch.optim.Adam(model.parameters(), lr=0.001)"
   ]
  },
  {
   "cell_type": "code",
   "execution_count": 24,
   "metadata": {},
   "outputs": [
    {
     "name": "stdout",
     "output_type": "stream",
     "text": [
      "Epoch 1 Loss: 0.6677583624155093\n",
      "Epoch 2 Loss: 0.5944579686873999\n",
      "Epoch 3 Loss: 0.556195385945149\n",
      "Epoch 4 Loss: 0.5427723717995179\n",
      "Epoch 5 Loss: 0.5270934937856137\n",
      "Epoch 6 Loss: 0.5302112423456632\n",
      "Epoch 7 Loss: 0.5126972939723577\n",
      "Epoch 8 Loss: 0.5027764997421167\n",
      "Epoch 9 Loss: 0.4952952953485342\n",
      "Epoch 10 Loss: 0.4898380637168884\n",
      "Epoch 11 Loss: 0.48987727898817796\n",
      "Epoch 12 Loss: 0.48434199660252303\n",
      "Epoch 13 Loss: 0.4750880492039216\n",
      "Epoch 14 Loss: 0.47877767987740344\n",
      "Epoch 15 Loss: 0.4683620188480768\n",
      "Epoch 16 Loss: 0.4676677202567076\n",
      "Epoch 17 Loss: 0.4642810271336482\n",
      "Epoch 18 Loss: 0.46168935069671047\n",
      "Epoch 19 Loss: 0.449918147845146\n",
      "Epoch 20 Loss: 0.44952973417746717\n",
      "Epoch 21 Loss: 0.4414935249548692\n",
      "Epoch 22 Loss: 0.4363453533404913\n",
      "Epoch 23 Loss: 0.4356663685578566\n",
      "Epoch 24 Loss: 0.43145970961986446\n",
      "Epoch 25 Loss: 0.42336919674506557\n",
      "Epoch 26 Loss: 0.4198306256379837\n",
      "Epoch 27 Loss: 0.42206848279023784\n",
      "Epoch 28 Loss: 0.41971343984970677\n",
      "Epoch 29 Loss: 0.41924567100329274\n",
      "Epoch 30 Loss: 0.4095374597952916\n",
      "Epoch 31 Loss: 0.40729760588743746\n",
      "Epoch 32 Loss: 0.4068899643726838\n",
      "Epoch 33 Loss: 0.4026504166615315\n",
      "Epoch 34 Loss: 0.40105515030714184\n",
      "Epoch 35 Loss: 0.38890540446990574\n",
      "Epoch 36 Loss: 0.4076503729208922\n",
      "Epoch 37 Loss: 0.39817554522783327\n",
      "Epoch 38 Loss: 0.39429011711707485\n",
      "Epoch 39 Loss: 0.39380107476161075\n",
      "Epoch 40 Loss: 0.38910505634087783\n",
      "Epoch 41 Loss: 0.4020103109188569\n",
      "Epoch 42 Loss: 0.386900931596756\n",
      "Epoch 43 Loss: 0.3780147914703076\n",
      "Epoch 44 Loss: 0.3771904408931732\n",
      "Epoch 45 Loss: 0.3744495640962552\n",
      "Epoch 46 Loss: 0.3733817155544574\n",
      "Epoch 47 Loss: 0.36829446447201264\n",
      "Epoch 48 Loss: 0.3665591317873735\n",
      "Epoch 49 Loss: 0.368806643363757\n",
      "Epoch 50 Loss: 0.3557904217487726\n",
      "Epoch 51 Loss: 0.36584851757074016\n",
      "Epoch 52 Loss: 0.3631388552677937\n",
      "Epoch 53 Loss: 0.359975040723116\n",
      "Epoch 54 Loss: 0.3526815305917691\n",
      "Epoch 55 Loss: 0.3586007662308522\n",
      "Epoch 56 Loss: 0.35625002093804187\n",
      "Epoch 57 Loss: 0.34815790943610364\n",
      "Epoch 58 Loss: 0.36199441246497327\n",
      "Epoch 59 Loss: 0.3435273086413359\n",
      "Epoch 60 Loss: 0.35977380932905734\n",
      "Epoch 61 Loss: 0.3400444182065817\n",
      "Epoch 62 Loss: 0.3544454391186054\n",
      "Epoch 63 Loss: 0.340121512229626\n",
      "Epoch 64 Loss: 0.34491795072188747\n",
      "Epoch 65 Loss: 0.33886971305578184\n",
      "Epoch 66 Loss: 0.3330616958630391\n",
      "Epoch 67 Loss: 0.3366612952489119\n",
      "Epoch 68 Loss: 0.3404346253627386\n",
      "Epoch 69 Loss: 0.3332451860874127\n",
      "Epoch 70 Loss: 0.329722869854707\n",
      "Epoch 71 Loss: 0.3275279945287949\n",
      "Epoch 72 Loss: 0.3271621572665679\n",
      "Epoch 73 Loss: 0.3259241901911222\n",
      "Epoch 74 Loss: 0.32193281940924817\n",
      "Epoch 75 Loss: 0.32105941153489626\n",
      "Epoch 76 Loss: 0.3282771691297873\n",
      "Epoch 77 Loss: 0.31585821203696424\n",
      "Epoch 78 Loss: 0.31966676467504257\n",
      "Epoch 79 Loss: 0.3126068042638974\n",
      "Epoch 80 Loss: 0.31366772605822635\n",
      "Epoch 81 Loss: 0.3116122377224458\n",
      "Epoch 82 Loss: 0.31501953800519306\n",
      "Epoch 83 Loss: 0.31530821590851515\n",
      "Epoch 84 Loss: 0.3010434626768797\n",
      "Epoch 85 Loss: 0.3026038339504829\n",
      "Epoch 86 Loss: 0.30063600799976253\n",
      "Epoch 87 Loss: 0.3031983918104416\n",
      "Epoch 88 Loss: 0.3074413912418561\n",
      "Epoch 89 Loss: 0.3133408297330905\n",
      "Epoch 90 Loss: 0.3067990671365689\n",
      "Epoch 91 Loss: 0.29556220846298414\n",
      "Epoch 92 Loss: 0.3012263774871826\n",
      "Epoch 93 Loss: 0.2967499471627749\n",
      "Epoch 94 Loss: 0.2947021371279007\n",
      "Epoch 95 Loss: 0.29240745573471755\n",
      "Epoch 96 Loss: 0.2912928324479323\n",
      "Epoch 97 Loss: 0.28944272108567065\n",
      "Epoch 98 Loss: 0.2920477573688214\n",
      "Epoch 99 Loss: 0.29036310353340244\n",
      "Epoch 100 Loss: 0.2938203888061719\n"
     ]
    }
   ],
   "source": [
    "for epoch in range(100):\n",
    "    s = 0\n",
    "    for i, data in enumerate(train_dataloader):\n",
    "        # Every data instance is an input + label pair\n",
    "        inputs, labels = data\n",
    "        inputs = inputs.to(dev)\n",
    "        labels = labels.to(dev)\n",
    "        # Zero your gradients for every batch!\n",
    "        optimizer.zero_grad()\n",
    "\n",
    "        # Make predictions for this batch\n",
    "        outputs = model(inputs)\n",
    "        labels = labels.view(-1)\n",
    "        # Compute the loss and its gradients\n",
    "        loss = criterion(outputs, labels)\n",
    "        loss.backward()\n",
    "\n",
    "        # Adjust learning weights\n",
    "        optimizer.step()\n",
    "\n",
    "        s += loss.item()\n",
    "    \n",
    "    print(f\"Epoch {epoch+1} Loss: {s/len(train_dataloader)}\")\n",
    "\n",
    "torch.save(model.to(dev).state_dict(), \"model.pt\")"
   ]
  },
  {
   "cell_type": "code",
   "execution_count": 25,
   "metadata": {},
   "outputs": [],
   "source": [
    "test_dataset = CatsDataset(train=False)"
   ]
  },
  {
   "cell_type": "code",
   "execution_count": 26,
   "metadata": {},
   "outputs": [],
   "source": [
    "test_dataloader = DataLoader(\n",
    "    dataset=test_dataset,\n",
    "    batch_size=64,\n",
    "    shuffle=True\n",
    ")"
   ]
  },
  {
   "cell_type": "code",
   "execution_count": 27,
   "metadata": {},
   "outputs": [
    {
     "name": "stdout",
     "output_type": "stream",
     "text": [
      "tensor(0.7985, device='mps:0')\n"
     ]
    }
   ],
   "source": [
    "good = 0\n",
    "a = 0\n",
    "for i, data in enumerate(test_dataloader):\n",
    "    # Every data instance is an input + label pair\n",
    "    inputs, labels = data\n",
    "    inputs = inputs.to(dev)\n",
    "    labels = labels.to(dev)\n",
    "    outputs = model(inputs)\n",
    "    labels = labels.view(-1)\n",
    "    \n",
    "    for i in range(len(outputs)):\n",
    "        good += torch.argmax(outputs[i]) == labels[i]\n",
    "        a += 1\n",
    "\n",
    "print(good / a)"
   ]
  }
 ],
 "metadata": {
  "kernelspec": {
   "display_name": "Python 3",
   "language": "python",
   "name": "python3"
  },
  "language_info": {
   "codemirror_mode": {
    "name": "ipython",
    "version": 3
   },
   "file_extension": ".py",
   "mimetype": "text/x-python",
   "name": "python",
   "nbconvert_exporter": "python",
   "pygments_lexer": "ipython3",
   "version": "3.11.4"
  }
 },
 "nbformat": 4,
 "nbformat_minor": 2
}
