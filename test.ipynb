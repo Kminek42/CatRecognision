{
 "cells": [
  {
   "cell_type": "code",
   "execution_count": 1,
   "metadata": {},
   "outputs": [],
   "source": [
    "import torch\n",
    "import torch.nn as nn\n",
    "from torch.utils.data import Dataset, DataLoader\n",
    "import torchvision\n",
    "from datasets import load_dataset\n",
    "import matplotlib.pyplot as plt"
   ]
  },
  {
   "cell_type": "code",
   "execution_count": 2,
   "metadata": {},
   "outputs": [],
   "source": [
    "# Load the dataset\n",
    "dataset = load_dataset(\"cifar10\")"
   ]
  },
  {
   "cell_type": "code",
   "execution_count": 3,
   "metadata": {},
   "outputs": [],
   "source": [
    "# prepare dataset\n",
    "class CatsDataset(Dataset):\n",
    "    def __init__(self, train=True):\n",
    "        if train:\n",
    "            temp_dataset = load_dataset(\"cifar10\")['train']\n",
    "        else:\n",
    "            temp_dataset = load_dataset(\"cifar10\")['test']\n",
    "        \n",
    "        self.dataset = []\n",
    "        for i in range(len(temp_dataset)):\n",
    "            if temp_dataset[i]['label'] == 3:\n",
    "                img = torchvision.transforms.PILToTensor()(temp_dataset[i]['img']) / 255.0\n",
    "                self.dataset.append([img, torch.tensor([0])])\n",
    "\n",
    "            elif torch.randint(0, 90, (1, )) < 10:\n",
    "                img = torchvision.transforms.PILToTensor()(temp_dataset[i]['img']) / 255.0\n",
    "                self.dataset.append([img, torch.tensor([1])])\n",
    "    \n",
    "    def __len__(self):\n",
    "        return len(self.dataset)\n",
    "    \n",
    "    def __getitem__(self, idx):\n",
    "        image, label = self.dataset[idx]\n",
    "        return (image, label)"
   ]
  },
  {
   "cell_type": "code",
   "execution_count": 4,
   "metadata": {},
   "outputs": [],
   "source": [
    "train_dataset = CatsDataset()"
   ]
  },
  {
   "cell_type": "code",
   "execution_count": 5,
   "metadata": {},
   "outputs": [],
   "source": [
    "train_dataloader = DataLoader(\n",
    "    dataset=train_dataset,\n",
    "    batch_size=64,\n",
    "    shuffle=True\n",
    ")"
   ]
  },
  {
   "cell_type": "code",
   "execution_count": 20,
   "metadata": {},
   "outputs": [
    {
     "name": "stdout",
     "output_type": "stream",
     "text": [
      "Using device: mps\n"
     ]
    }
   ],
   "source": [
    "dev = torch.device(\"cpu\")\n",
    "if torch.cuda.is_available():\n",
    "    dev = torch.device(\"cuda\")\n",
    "elif torch.backends.mps.is_available():\n",
    "    dev = torch.device(\"mps\")\n",
    "\n",
    "print(f\"Using device: {dev}\")"
   ]
  },
  {
   "cell_type": "code",
   "execution_count": 21,
   "metadata": {},
   "outputs": [],
   "source": [
    "model = nn.Sequential(\n",
    "    nn.Conv2d(3, 16, 3),\n",
    "    nn.MaxPool2d((3, 3)),\n",
    "    nn.LeakyReLU(),\n",
    "    nn.Conv2d(16, 64, 3),\n",
    "    nn.MaxPool2d((3, 3)),\n",
    "    nn.LeakyReLU(),\n",
    "    nn.Flatten(),\n",
    "    nn.Linear(256, 64),\n",
    "    nn.LeakyReLU(),\n",
    "    nn.Linear(64, 2)\n",
    ").to(dev)"
   ]
  },
  {
   "cell_type": "code",
   "execution_count": 22,
   "metadata": {},
   "outputs": [],
   "source": [
    "criterion = nn.CrossEntropyLoss()\n",
    "optimizer = torch.optim.Adam(model.parameters(), lr=0.001)"
   ]
  },
  {
   "cell_type": "code",
   "execution_count": 30,
   "metadata": {},
   "outputs": [
    {
     "name": "stdout",
     "output_type": "stream",
     "text": [
      "Epoch 1 Loss: 0.08546325124230734\n",
      "Epoch 2 Loss: 0.0905677037681364\n",
      "Epoch 3 Loss: 0.08466553075867854\n",
      "Epoch 4 Loss: 0.08698857262445862\n",
      "Epoch 5 Loss: 0.0809807807539299\n",
      "Epoch 6 Loss: 0.10677010981235535\n",
      "Epoch 7 Loss: 0.07039279087333922\n",
      "Epoch 8 Loss: 0.05092078838260121\n",
      "Epoch 9 Loss: 0.0458751126299286\n",
      "Epoch 10 Loss: 0.05058152155037139\n",
      "Epoch 11 Loss: 0.11802765488577117\n",
      "Epoch 12 Loss: 0.05394208921226346\n",
      "Epoch 13 Loss: 0.0399569153524698\n",
      "Epoch 14 Loss: 0.037466223467331215\n",
      "Epoch 15 Loss: 0.044273987062465235\n",
      "Epoch 16 Loss: 0.042824513000098006\n",
      "Epoch 17 Loss: 0.03897625056635232\n",
      "Epoch 18 Loss: 0.0548521034822912\n",
      "Epoch 19 Loss: 0.04234361176966292\n",
      "Epoch 20 Loss: 0.056562273592575436\n",
      "Epoch 21 Loss: 0.05186741817060407\n",
      "Epoch 22 Loss: 0.03988926506239423\n",
      "Epoch 23 Loss: 0.019361005897283744\n",
      "Epoch 24 Loss: 0.014086676659181145\n",
      "Epoch 25 Loss: 0.01069903280734304\n",
      "Epoch 26 Loss: 0.008616469359280435\n",
      "Epoch 27 Loss: 0.006607977297100695\n",
      "Epoch 28 Loss: 0.005613669568441428\n",
      "Epoch 29 Loss: 0.005738693757344536\n",
      "Epoch 30 Loss: 0.004851213074660012\n",
      "Epoch 31 Loss: 0.006451566249078769\n",
      "Epoch 32 Loss: 0.17977974165800462\n",
      "Epoch 33 Loss: 0.07882945682663636\n",
      "Epoch 34 Loss: 0.0350569026606976\n",
      "Epoch 35 Loss: 0.03702560127386527\n",
      "Epoch 36 Loss: 0.0264678358539322\n",
      "Epoch 37 Loss: 0.01226678901577404\n",
      "Epoch 38 Loss: 0.00624683794452791\n",
      "Epoch 39 Loss: 0.00482362771894676\n",
      "Epoch 40 Loss: 0.0030004111063743756\n"
     ]
    }
   ],
   "source": [
    "for epoch in range(40):\n",
    "    s = 0\n",
    "    for i, data in enumerate(train_dataloader):\n",
    "        # Every data instance is an input + label pair\n",
    "        inputs, labels = data\n",
    "        inputs = inputs.to(dev)\n",
    "        labels = labels.to(dev)\n",
    "        # Zero your gradients for every batch!\n",
    "        optimizer.zero_grad()\n",
    "\n",
    "        # Make predictions for this batch\n",
    "        outputs = model(inputs)\n",
    "        labels = labels.view(-1)\n",
    "        # Compute the loss and its gradients\n",
    "        loss = criterion(outputs, labels)\n",
    "        loss.backward()\n",
    "\n",
    "        # Adjust learning weights\n",
    "        optimizer.step()\n",
    "\n",
    "        s += loss.item()\n",
    "    \n",
    "    print(f\"Epoch {epoch+1} Loss: {s/len(train_dataloader)}\")\n",
    "\n",
    "torch.save(model.to(dev).state_dict(), \"model.pt\")"
   ]
  },
  {
   "cell_type": "code",
   "execution_count": 24,
   "metadata": {},
   "outputs": [],
   "source": [
    "test_dataset = CatsDataset(train=False)"
   ]
  },
  {
   "cell_type": "code",
   "execution_count": 25,
   "metadata": {},
   "outputs": [],
   "source": [
    "test_dataloader = DataLoader(\n",
    "    dataset=test_dataset,\n",
    "    batch_size=64,\n",
    "    shuffle=True\n",
    ")"
   ]
  },
  {
   "cell_type": "code",
   "execution_count": 31,
   "metadata": {},
   "outputs": [
    {
     "name": "stdout",
     "output_type": "stream",
     "text": [
      "tensor(0.7426, device='mps:0')\n"
     ]
    }
   ],
   "source": [
    "good = 0\n",
    "a = 0\n",
    "for i, data in enumerate(test_dataloader):\n",
    "    # Every data instance is an input + label pair\n",
    "    inputs, labels = data\n",
    "    inputs = inputs.to(dev)\n",
    "    labels = labels.to(dev)\n",
    "    outputs = model(inputs)\n",
    "    labels = labels.view(-1)\n",
    "    \n",
    "    for i in range(len(outputs)):\n",
    "        good += torch.argmax(outputs[i]) == labels[i]\n",
    "        a += 1\n",
    "\n",
    "print(good / a)"
   ]
  }
 ],
 "metadata": {
  "kernelspec": {
   "display_name": "Python 3",
   "language": "python",
   "name": "python3"
  },
  "language_info": {
   "codemirror_mode": {
    "name": "ipython",
    "version": 3
   },
   "file_extension": ".py",
   "mimetype": "text/x-python",
   "name": "python",
   "nbconvert_exporter": "python",
   "pygments_lexer": "ipython3",
   "version": "3.11.4"
  }
 },
 "nbformat": 4,
 "nbformat_minor": 2
}
