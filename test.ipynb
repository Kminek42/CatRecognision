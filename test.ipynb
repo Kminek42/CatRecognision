{
 "cells": [
  {
   "cell_type": "code",
   "execution_count": 31,
   "metadata": {},
   "outputs": [],
   "source": [
    "import torch\n",
    "import torch.nn as nn\n",
    "from torch.utils.data import Dataset, DataLoader, ConcatDataset\n",
    "import torchvision\n",
    "from datasets import load_dataset\n",
    "import matplotlib.pyplot as plt"
   ]
  },
  {
   "cell_type": "code",
   "execution_count": 60,
   "metadata": {},
   "outputs": [],
   "source": [
    "# prepare dataset\n",
    "class CatsDataset(Dataset):\n",
    "    def __init__(self, train=True):\n",
    "        if train:\n",
    "            temp_dataset = load_dataset(\"cifar10\")['train']\n",
    "        else:\n",
    "            temp_dataset = load_dataset(\"cifar10\")['test']\n",
    "        \n",
    "        main_dataset = []\n",
    "        cats = []\n",
    "        for i in range(len(temp_dataset)):\n",
    "            # store cats\n",
    "            if temp_dataset[i]['label'] == 3:\n",
    "                img = torchvision.transforms.PILToTensor()(temp_dataset[i]['img']).expand((3, -1, -1)) / 255.0\n",
    "                cats.append([img, torch.tensor([0])])\n",
    "\n",
    "            # add other images to dataset\n",
    "            else:\n",
    "                img = torchvision.transforms.PILToTensor()(temp_dataset[i]['img']).expand((3, -1, -1)) / 255.0\n",
    "                main_dataset.append([img, torch.tensor([1])])\n",
    "\n",
    "        # Repeat dataset2 nine times\n",
    "        repeated_datasets = [cats] * 9\n",
    "\n",
    "        # Concatenate dataset1 with repeated dataset2\n",
    "        self.dataset = ConcatDataset([main_dataset] + repeated_datasets)\n",
    "\n",
    "    \n",
    "    def __len__(self):\n",
    "        return len(self.dataset)\n",
    "    \n",
    "    def __getitem__(self, idx):\n",
    "        image, label = self.dataset[idx]\n",
    "        image = torchvision.transforms.RandomHorizontalFlip()(image)\n",
    "        image = torchvision.transforms.RandomResizedCrop((32, 32), scale=(4/5, 5/4), ratio=(4/5, 5/4))(image)\n",
    "        return (image, label)"
   ]
  },
  {
   "cell_type": "code",
   "execution_count": 61,
   "metadata": {},
   "outputs": [
    {
     "data": {
      "text/plain": [
       "90000"
      ]
     },
     "execution_count": 61,
     "metadata": {},
     "output_type": "execute_result"
    }
   ],
   "source": [
    "train_dataset = CatsDataset(train=True)\n",
    "len(train_dataset)"
   ]
  },
  {
   "cell_type": "code",
   "execution_count": 62,
   "metadata": {},
   "outputs": [],
   "source": [
    "train_dataloader = DataLoader(\n",
    "    dataset=train_dataset,\n",
    "    batch_size=256,\n",
    "    shuffle=True\n",
    ")"
   ]
  },
  {
   "cell_type": "code",
   "execution_count": 63,
   "metadata": {},
   "outputs": [
    {
     "name": "stdout",
     "output_type": "stream",
     "text": [
      "Using device: mps\n"
     ]
    }
   ],
   "source": [
    "dev = torch.device(\"cpu\")\n",
    "if torch.cuda.is_available():\n",
    "    dev = torch.device(\"cuda\")\n",
    "elif torch.backends.mps.is_available():\n",
    "    dev = torch.device(\"mps\")\n",
    "\n",
    "print(f\"Using device: {dev}\")"
   ]
  },
  {
   "cell_type": "code",
   "execution_count": 77,
   "metadata": {},
   "outputs": [],
   "source": [
    "model = nn.Sequential(\n",
    "    nn.Conv2d(3, 64, 3),\n",
    "    nn.MaxPool2d((3, 3)),\n",
    "    nn.LeakyReLU(),\n",
    "    nn.Conv2d(64, 64, 3),\n",
    "    nn.MaxPool2d((3, 3)),\n",
    "    nn.LeakyReLU(),\n",
    "    nn.Flatten(),\n",
    "    nn.Linear(256, 64),\n",
    "    nn.LeakyReLU(),\n",
    "    nn.Linear(64, 2)\n",
    ").to(dev)"
   ]
  },
  {
   "cell_type": "code",
   "execution_count": 78,
   "metadata": {},
   "outputs": [],
   "source": [
    "criterion = nn.CrossEntropyLoss()\n",
    "optimizer = torch.optim.Adam(model.parameters(), lr=0.0001)"
   ]
  },
  {
   "cell_type": "code",
   "execution_count": 81,
   "metadata": {},
   "outputs": [
    {
     "name": "stdout",
     "output_type": "stream",
     "text": [
      "Epoch 1 Loss: 0.5127322578972037\n",
      "Epoch 2 Loss: 0.5030352201482112\n",
      "Epoch 3 Loss: 0.4938331706110727\n",
      "Epoch 4 Loss: 0.48747569297186355\n",
      "Epoch 5 Loss: 0.4799483444711024\n",
      "Epoch 6 Loss: 0.47321122055026615\n",
      "Epoch 7 Loss: 0.4705432698299939\n",
      "Epoch 8 Loss: 0.46476283915002237\n",
      "Epoch 9 Loss: 0.4587418803606521\n",
      "Epoch 10 Loss: 0.45601269975304604\n",
      "Epoch 11 Loss: 0.45132567250931804\n",
      "Epoch 12 Loss: 0.4479885161430998\n",
      "Epoch 13 Loss: 0.4442358175292611\n",
      "Epoch 14 Loss: 0.43917044082825835\n",
      "Epoch 15 Loss: 0.4390289630232887\n",
      "Epoch 16 Loss: 0.43416007938371465\n",
      "Epoch 17 Loss: 0.4320536175404083\n",
      "Epoch 18 Loss: 0.4281757626343857\n",
      "Epoch 19 Loss: 0.4269535530527884\n",
      "Epoch 20 Loss: 0.42138694590804254\n",
      "Epoch 21 Loss: 0.42259806572374975\n",
      "Epoch 22 Loss: 0.4194783576002175\n",
      "Epoch 23 Loss: 0.41586094645952637\n",
      "Epoch 24 Loss: 0.41359927191991697\n",
      "Epoch 25 Loss: 0.4129187828776511\n",
      "Epoch 26 Loss: 0.40978814161975274\n",
      "Epoch 27 Loss: 0.40799213522537187\n",
      "Epoch 28 Loss: 0.40723997269841755\n",
      "Epoch 29 Loss: 0.40505051375790074\n",
      "Epoch 30 Loss: 0.4012719341130419\n",
      "Epoch 31 Loss: 0.4006139477714896\n",
      "Epoch 32 Loss: 0.40053560508584435\n"
     ]
    }
   ],
   "source": [
    "for epoch in range(32):\n",
    "    s = 0\n",
    "    for i, data in enumerate(train_dataloader):\n",
    "        # Every data instance is an input + label pair\n",
    "        inputs, labels = data\n",
    "        inputs = inputs.to(dev)\n",
    "        labels = labels.to(dev)\n",
    "        # Zero your gradients for every batch!\n",
    "        optimizer.zero_grad()\n",
    "\n",
    "        # Make predictions for this batch\n",
    "        outputs = model(inputs)\n",
    "        labels = labels.view(-1)\n",
    "        # Compute the loss and its gradients\n",
    "        loss = criterion(outputs, labels)\n",
    "        loss.backward()\n",
    "\n",
    "        # Adjust learning weights\n",
    "        optimizer.step()\n",
    "\n",
    "        s += loss.item()\n",
    "    \n",
    "    print(f\"Epoch {epoch+1} Loss: {s/len(train_dataloader)}\")\n",
    "\n",
    "torch.save(model.to(dev).state_dict(), \"model.pt\")"
   ]
  },
  {
   "cell_type": "code",
   "execution_count": 67,
   "metadata": {},
   "outputs": [],
   "source": [
    "test_dataset = CatsDataset(train=False)"
   ]
  },
  {
   "cell_type": "code",
   "execution_count": 68,
   "metadata": {},
   "outputs": [],
   "source": [
    "test_dataloader = DataLoader(\n",
    "    dataset=test_dataset,\n",
    "    batch_size=256,\n",
    "    shuffle=True\n",
    ")"
   ]
  },
  {
   "cell_type": "code",
   "execution_count": 82,
   "metadata": {},
   "outputs": [
    {
     "name": "stdout",
     "output_type": "stream",
     "text": [
      "tensor(0.7975, device='mps:0')\n"
     ]
    }
   ],
   "source": [
    "good = 0\n",
    "a = 0\n",
    "for i, data in enumerate(test_dataloader):\n",
    "    # Every data instance is an input + label pair\n",
    "    inputs, labels = data\n",
    "    inputs = inputs.to(dev)\n",
    "    labels = labels.to(dev)\n",
    "    outputs = model(inputs)\n",
    "    labels = labels.view(-1)\n",
    "    \n",
    "    for i in range(len(outputs)):\n",
    "        good += torch.argmax(outputs[i]) == labels[i]\n",
    "        a += 1\n",
    "\n",
    "print(good / a)"
   ]
  }
 ],
 "metadata": {
  "kernelspec": {
   "display_name": "Python 3",
   "language": "python",
   "name": "python3"
  },
  "language_info": {
   "codemirror_mode": {
    "name": "ipython",
    "version": 3
   },
   "file_extension": ".py",
   "mimetype": "text/x-python",
   "name": "python",
   "nbconvert_exporter": "python",
   "pygments_lexer": "ipython3",
   "version": "3.11.4"
  }
 },
 "nbformat": 4,
 "nbformat_minor": 2
}
